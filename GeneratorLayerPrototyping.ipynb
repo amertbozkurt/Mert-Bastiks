{
 "cells": [
  {
   "cell_type": "code",
   "execution_count": 2,
   "id": "ba89f710-b12f-415d-92d4-35f16b104ea5",
   "metadata": {},
   "outputs": [
    {
     "data": {
      "text/plain": [
       "'\\nThis script is meant as prototyping base for the generator architecture. \\n\\nOpen questions:\\n        - What is the loss function in our generator\\n        - How is the affine transform from the auxilliart space W into our netwrok layers defined?\\n        - Does the last question even matter how we define it\\n        - Complexity in general\\n        \\n'"
      ]
     },
     "execution_count": 2,
     "metadata": {},
     "output_type": "execute_result"
    }
   ],
   "source": [
    "import numpy as np\n",
    "import tensorflow as tf\n",
    "import numba as nb\n",
    "from numba import jit,njit\n",
    "import scipy as sci\n",
    "\"\"\"\n",
    "This script is meant as prototyping base for the generator architecture. \n",
    "\n",
    "Open questions:\n",
    "        - What is the loss function in our generator\n",
    "        - How is the affine transform from the auxilliart space W into our netwrok layers defined?\n",
    "        - Does the last question even matter how we define it\n",
    "        - Complexity in general\n",
    "        \n",
    "\"\"\""
   ]
  },
  {
   "cell_type": "code",
   "execution_count": null,
   "id": "c8c9cd3d-91f4-4174-a603-47ab80ed012f",
   "metadata": {},
   "outputs": [],
   "source": [
    "def layer(T=None,np=None):\n",
    "    \"\"\"\n",
    "    layer is meant as one layer of the generator network used to generate pictures for the discriminator to judge\n",
    "    \n",
    "    T = None\n",
    "        T is the input tensor that is fed into each layer. if no tensor is provided then a random tensor of dimension (3,2,2) is generated as the seed.\n",
    "        \n",
    "        The dimensionality of the tensor are hereonafter fixed as (RGB,Resol,Resol) where 'resol' is the reolution that is increased with every iteration of the generators\n",
    "       \n",
    "    np = None\n",
    "        Noise paramter to manually set the amount of noise introduced in each layer. If none is provided a random uniform noise strength will be drawn\n",
    "    \n",
    "    \"\"\"\n",
    "    if T==None:\n",
    "        T=tf.random.uniform(shape=(3,2,2),maxval=1)\n",
    "        \n",
    "    if np==None:\n",
    "        np=np.random.uniform(0,1)\n",
    "    \n",
    "    T=T.(np*tf.random.normal(shape=(3,T.shape()[1],T.shape()[2]))\n",
    "         \n",
    "         \n",
    "    \n",
    "    \n",
    "    \n",
    "    \n",
    "    return T"
   ]
  }
 ],
 "metadata": {
  "kernelspec": {
   "display_name": "Python 3 (ipykernel)",
   "language": "python",
   "name": "python3"
  },
  "language_info": {
   "codemirror_mode": {
    "name": "ipython",
    "version": 3
   },
   "file_extension": ".py",
   "mimetype": "text/x-python",
   "name": "python",
   "nbconvert_exporter": "python",
   "pygments_lexer": "ipython3",
   "version": "3.9.7"
  }
 },
 "nbformat": 4,
 "nbformat_minor": 5
}
