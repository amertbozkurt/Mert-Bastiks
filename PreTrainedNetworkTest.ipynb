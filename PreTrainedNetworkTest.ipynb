{
 "cells": [
  {
   "cell_type": "code",
   "execution_count": 10,
   "id": "6ca7ab5d-4bf5-422f-9f84-8827a7d0c630",
   "metadata": {},
   "outputs": [],
   "source": [
    "import numpy as np\n",
    "import tensorflow as tf\n",
    "import scipy as sci\n",
    "import numba as nb\n",
    "import IPython.display as display\n",
    "import PIL.Image\n",
    "\n",
    "img = PIL.Image.open(r\"confusedobi.jpg\")\n",
    "inp = np.array(img)"
   ]
  },
  {
   "cell_type": "code",
   "execution_count": 14,
   "id": "693a41cd-70ed-45d8-b2bf-1355f2d03f78",
   "metadata": {},
   "outputs": [
    {
     "name": "stderr",
     "output_type": "stream",
     "text": [
      "2022-02-01 10:05:11.175757: W tensorflow/stream_executor/platform/default/dso_loader.cc:64] Could not load dynamic library 'libcuda.so.1'; dlerror: libcuda.so.1: cannot open shared object file: No such file or directory\n",
      "2022-02-01 10:05:11.176079: W tensorflow/stream_executor/cuda/cuda_driver.cc:269] failed call to cuInit: UNKNOWN ERROR (303)\n",
      "2022-02-01 10:05:11.176145: I tensorflow/stream_executor/cuda/cuda_diagnostics.cc:156] kernel driver does not appear to be running on this host (casimir): /proc/driver/nvidia/version does not exist\n",
      "2022-02-01 10:05:11.176634: I tensorflow/core/platform/cpu_feature_guard.cc:151] This TensorFlow binary is optimized with oneAPI Deep Neural Network Library (oneDNN) to use the following CPU instructions in performance-critical operations:  AVX2 FMA\n",
      "To enable them in other operations, rebuild TensorFlow with the appropriate compiler flags.\n"
     ]
    }
   ],
   "source": [
    "model = tf.keras.applications.VGG16()\n",
    "model2 = tf.keras.applications.InceptionV3()"
   ]
  },
  {
   "cell_type": "code",
   "execution_count": 15,
   "id": "84ca6fcd-6301-460f-9327-a5be58458bf7",
   "metadata": {},
   "outputs": [],
   "source": [
    "#model.summary()\n",
    "'Rather than exciing concatenations as in example try to increase the differences in the pooling operations and see what comes about' \n",
    "\n",
    "loi = ['block1_pool','block2_pool','block3_pool','block4_pool']\n",
    "\n",
    "layers = [model.get_layer(val).output for val in loi]"
   ]
  },
  {
   "cell_type": "code",
   "execution_count": 16,
   "id": "f1e408f8-165c-41e8-bfb2-5612d51f5091",
   "metadata": {},
   "outputs": [],
   "source": [
    "dmodel = tf.keras.Model(inputs=model.input,outputs=layers)"
   ]
  },
  {
   "cell_type": "code",
   "execution_count": 17,
   "id": "14881734-27cb-48c3-8a38-40787a3bc1fc",
   "metadata": {},
   "outputs": [],
   "source": [
    "def loss(inp,mod):\n",
    "    proc=tf.expand_dims(inp,axis=0)\n",
    "    acti=model(proc)\n",
    "    \n",
    "    acti=np.array(acti)\n",
    "    \n",
    "    loss=[]\n",
    "    for act in acti:\n",
    "        los = tf.math.reduce_mean(act)\n",
    "        loss.append(los)\n",
    "    return tf.reduce_sum(loss)"
   ]
  },
  {
   "cell_type": "code",
   "execution_count": 18,
   "id": "6946ecc3-8434-4271-9662-9343c7a928e0",
   "metadata": {},
   "outputs": [],
   "source": [
    "class DeepDream(tf.Module):\n",
    "  def __init__(self, model):\n",
    "    self.model = model\n",
    "\n",
    "  @tf.function(\n",
    "      input_signature=(\n",
    "        tf.TensorSpec(shape=[None,None,3], dtype=tf.float32),\n",
    "        tf.TensorSpec(shape=[], dtype=tf.int32),\n",
    "        tf.TensorSpec(shape=[], dtype=tf.float32),)\n",
    "  )\n",
    "  def __call__(self, img, steps, step_size):\n",
    "      print(\"Tracing\")\n",
    "      loss = tf.constant(0.0)\n",
    "      for n in tf.range(steps):\n",
    "        with tf.GradientTape() as tape:\n",
    "          # This needs gradients relative to `img`\n",
    "          # `GradientTape` only watches `tf.Variable`s by default\n",
    "          tape.watch(img)\n",
    "          loss = calc_loss(img, self.model)\n",
    "\n",
    "        # Calculate the gradient of the loss with respect to the pixels of the input image.\n",
    "        gradients = tape.gradient(loss, img)\n",
    "\n",
    "        # Normalize the gradients.\n",
    "        gradients /= tf.math.reduce_std(gradients) + 1e-8 \n",
    "\n",
    "        # In gradient ascent, the \"loss\" is maximized so that the input image increasingly \"excites\" the layers.\n",
    "        # You can update the image by directly adding the gradients (because they're the same shape!)\n",
    "        img = img + gradients*step_size\n",
    "        img = tf.clip_by_value(img, -1, 1)\n",
    "\n",
    "      return loss, img"
   ]
  },
  {
   "cell_type": "code",
   "execution_count": 19,
   "id": "82b15e18-bdba-4337-b4d8-b96d868b53a5",
   "metadata": {},
   "outputs": [],
   "source": [
    "DREAM = DeepDream(dmodel)"
   ]
  },
  {
   "cell_type": "code",
   "execution_count": 20,
   "id": "008b1345-5be7-4051-85ee-994bb28a6412",
   "metadata": {},
   "outputs": [],
   "source": [
    "def run_deep_dream_simple(img, steps=100, step_size=0.01):\n",
    "  # Convert from uint8 to the range expected by the model.\n",
    "  img = tf.keras.applications.inception_v3.preprocess_input(img)\n",
    "  img = tf.convert_to_tensor(img)\n",
    "  step_size = tf.convert_to_tensor(step_size)\n",
    "  steps_remaining = steps\n",
    "  step = 0\n",
    "  while steps_remaining:\n",
    "    if steps_remaining>100:\n",
    "      run_steps = tf.constant(100)\n",
    "    else:\n",
    "      run_steps = tf.constant(steps_remaining)\n",
    "    steps_remaining -= run_steps\n",
    "    step += run_steps\n",
    "\n",
    "    loss, img = deepdream(img, run_steps, tf.constant(step_size))\n",
    "\n",
    "    display.clear_output(wait=True)\n",
    "    show(deprocess(img))\n",
    "    print (\"Step {}, loss {}\".format(step, loss))\n",
    "\n",
    "\n",
    "  result = deprocess(img)\n",
    "  display.clear_output(wait=True)\n",
    "  show(result)\n",
    "\n",
    "  return result"
   ]
  },
  {
   "cell_type": "code",
   "execution_count": null,
   "id": "967d8873-0ab8-4d68-9532-779fa445399c",
   "metadata": {},
   "outputs": [],
   "source": []
  }
 ],
 "metadata": {
  "kernelspec": {
   "display_name": "Python 3 (ipykernel)",
   "language": "python",
   "name": "python3"
  },
  "language_info": {
   "codemirror_mode": {
    "name": "ipython",
    "version": 3
   },
   "file_extension": ".py",
   "mimetype": "text/x-python",
   "name": "python",
   "nbconvert_exporter": "python",
   "pygments_lexer": "ipython3",
   "version": "3.9.7"
  }
 },
 "nbformat": 4,
 "nbformat_minor": 5
}
